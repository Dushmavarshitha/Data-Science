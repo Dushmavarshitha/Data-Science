{
 "cells": [
  {
   "cell_type": "code",
   "execution_count": 2,
   "metadata": {
    "id": "RphEEkcMEC6u"
   },
   "outputs": [],
   "source": []
  },
  {
   "cell_type": "code",
   "execution_count": 6,
   "metadata": {
    "colab": {
     "base_uri": "https://localhost:8080/"
    },
    "id": "m8iOUp01EasD",
    "outputId": "127dd3d7-6bfc-4d32-8d4e-eb19093322e8"
   },
   "outputs": [
    {
     "name": "stdout",
     "output_type": "stream",
     "text": [
      "   Age  Income\n",
      "0   23   20000\n",
      "1   25   25000\n",
      "2   31   32000\n",
      "3   35   35000\n",
      "4   45   45000\n",
      "5   55   55000\n",
      "6   60   58000\n",
      "7   65   60000\n",
      "8   70   70000\n",
      "9   72   72000\n",
      "               Age       Income\n",
      "count        10.00        10.00\n",
      "mean         48.10     47200.00\n",
      "median       50.00     50000.00\n",
      "mode         23.00     20000.00\n",
      "varience    351.43 343733333.33\n",
      "std_dev      18.75     18540.05\n",
      "min          23.00     20000.00\n",
      "max          72.00     72000.00\n",
      "range        49.00     52000.00\n",
      "25%          32.00     32750.00\n",
      "50%(median)  50.00     50000.00\n",
      "75%          63.75     59500.00\n",
      "skewness     -0.09        -0.12\n"
     ]
    }
   ],
   "source": [
    "import pandas as pd\n",
    "import numpy as np\n",
    "from scipy import stats\n",
    "data={\n",
    "    'Age':[23,25,31,35,45,55,60,65,70,72],\n",
    "    'Income':[20000,25000,32000,35000,45000,55000,58000,60000,70000,72000]\n",
    "}\n",
    "df=pd.DataFrame(data)\n",
    "print(df)\n",
    "pd.options.display.float_format='{:.2f}'.format\n",
    "def descriptive_statastics(df):\n",
    "  stats_summary={}\n",
    "  for column in df.columns:\n",
    "    mode_result=stats.mode(df[column],keepdims=True)\n",
    "    mode_value=mode_result.mode[0] if mode_result.count[0]>0 else np.nan\n",
    "    stats_summary[column]={\n",
    "        'count':df[column].count(),\n",
    "        'mean':df[column].mean(),\n",
    "        'median':df[column].median(),\n",
    "        'mode':mode_value,\n",
    "        'varience':df[column].var(),\n",
    "        'std_dev':df[column].std(),\n",
    "        'min':df[column].min(),\n",
    "        'max':df[column].max(),\n",
    "        'range':df[column].max()-df[column].min(),\n",
    "        '25%':df[column].quantile(0.25),\n",
    "        '50%(median)':df[column].quantile(0.50),\n",
    "        '75%':df[column].quantile(0.75),\n",
    "        'skewness':df[column].skew(),\n",
    "    }\n",
    "  return pd.DataFrame(stats_summary)\n",
    "descriptive_stats=descriptive_statastics(df)\n",
    "print(descriptive_stats)"
   ]
  }
 ],
 "metadata": {
  "colab": {
   "provenance": [],
   "toc_visible": true
  },
  "kernelspec": {
   "display_name": "Python 3",
   "name": "python3"
  },
  "language_info": {
   "name": "python"
  }
 },
 "nbformat": 4,
 "nbformat_minor": 0
}
