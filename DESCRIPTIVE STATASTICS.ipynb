{
 "cells": [
  {
   "cell_type": "code",
   "execution_count": 2,
   "metadata": {
    "id": "RphEEkcMEC6u"
   },
   "outputs": [],
   "source": []
  },
  {
   "cell_type": "code",
   "execution_count": null,
   "metadata": {
    "colab": {
     "base_uri": "https://localhost:8080/"
    },
    "id": "m8iOUp01EasD",
    "outputId": "127dd3d7-6bfc-4d32-8d4e-eb19093322e8"
   },
   "outputs": [],
   "source": [
    "import pandas as pd\n",
    "import numpy as np\n",
    "from scipy import stats\n",
    "data={\n",
    "    'Age':[23,25,31,35,45,55,60,65,70,72],\n",
    "    'Income':[20000,25000,32000,35000,45000,55000,58000,60000,70000,72000]\n",
    "}\n",
    "df=pd.DataFrame(data)\n",
    "print(df)\n",
    "pd.options.display.float_format='{:.2f}'.format\n",
    "def descriptive_statastics(df):\n",
    "  stats_summary={}\n",
    "  for column in df.columns:\n",
    "    mode_result=stats.mode(df[column],keepdims=True)\n",
    "    mode_value=mode_result.mode[0] if mode_result.count[0]>0 else np.nan\n",
    "    stats_summary[column]={\n",
    "        'count':df[column].count(),\n",
    "        'mean':df[column].mean(),\n",
    "        'median':df[column].median(),\n",
    "        'mode':mode_value,\n",
    "        'varience':df[column].var(),\n",
    "        'std_dev':df[column].std(),\n",
    "        'min':df[column].min(),\n",
    "        'max':df[column].max(),\n",
    "        'range':df[column].max()-df[column].min(),\n",
    "        '25%':df[column].quantile(0.25),\n",
    "        '50%(median)':df[column].quantile(0.50),\n",
    "        '75%':df[column].quantile(0.75),\n",
    "        'skewness':df[column].skew(),\n",
    "    }\n",
    "  return pd.DataFrame(stats_summary)\n",
    "descriptive_stats=descriptive_statastics(df)\n",
    "print(descriptive_stats)"
   ]
  }
 ],
 "metadata": {
  "colab": {
   "provenance": [],
   "toc_visible": true
  },
  "kernelspec": {
   "display_name": "Python 3",
   "name": "python3"
  },
  "language_info": {
   "name": "python"
  }
 },
 "nbformat": 4,
 "nbformat_minor": 0
}
